{
 "cells": [
  {
   "cell_type": "markdown",
   "metadata": {},
   "source": [
    "# Introduction"
   ]
  },
  {
   "cell_type": "markdown",
   "metadata": {},
   "source": [
    "Blood transfusion saves lives - from replacing lost blood during major surgery or a serious injury to treating various illnesses and blood disorders. Ensuring that there's enough blood in supply whenever needed is a serious challenge for the health professionals. According to WebMD,\"about 5 million Americans need a blood transfusion every year\". Blood transfusions are a crucial aspect of modern healthcare, with millions of units of blood transfused worldwide every year. However, the supply of blood is dependent on donors, and maintaining a stable supply of blood for transfusions is a challenging task. One of the significant challenges in blood donation is ensuring that donors come back to donate regularly, which helps to maintain a stable supply of blood.\n",
    "\n",
    "In this capstone project, we aim to develop a predictive model that can help blood banks to identify donors who are likely to come back to donate blood based on a limited number of attributes. The model will leverage machine learning algorithms to analyze the data from previous blood donations and predict the likelihood of donors to return for subsequent donations.\n",
    "\n",
    "The model will be developed using data obtained from a rom a mobile blood donation vehicle in Taiwan, including information on the time since last donation, number of donation, volume of donated blood, and total month past since first donation of donors. The Blood Transfusion Service Center drives to different universities and collects blood as part of a blood drive. The developed model will be evaluated using various metrics to determine its effectiveness in predicting future donor behavior.\n",
    "\n",
    "The proposed predictive model has the potential to assist blood banks in increasing the number of repeat donors and maintaining a stable supply of blood. Moreover, this model can provide valuable insights into the factors that influence donor behavior, which can help blood banks to create targeted campaigns to encourage more people to donate blood regularly.\n",
    "\n",
    "Overall, this capstone project aims to provide a data-driven approach to address the challenge of maintaining a stable supply of blood for transfusions by predicting donor behavior and helping blood banks to create targeted campaigns to increase repeat blood donations."
   ]
  },
  {
   "cell_type": "markdown",
   "metadata": {},
   "source": [
    "# Dataset"
   ]
  },
  {
   "cell_type": "markdown",
   "metadata": {},
   "source": [
    "'Months since Last Donation': Itrepresents the number of months that have passed since the donor's last blood donation. This information can be useful in identifying donors who have not donated blood in a long time and may need to be encouraged to donate again.\n",
    "\n",
    "'Number of Donations': This represents the total number of blood donations made by the donor. This information can be useful in identifying donors who have made multiple donations and may be more likely to donate again in the future.\n",
    "\n",
    "'Total Volume Donated (c.c.)': This column represents the total volume of blood donated by the donor, measured in cubic centimeters. This information can be useful in identifying donors who have made significant contributions to the blood bank and may be more committed to donating blood.\n",
    "\n",
    "'Months since First Donation': This feature represents the number of months that have passed since the donor's first blood donation. This information can be useful in identifying donors who have been donating blood for a long time and may be more likely to continue doing so.\n",
    "\n",
    "'Made Donation in March 2007': It represents whether or not the donor made a blood donation in March 2007. It is target column in the dataset. This information can be useful in identifying donors who have recently donated blood and may be more likely to donate again in the near future.\n",
    "\n",
    "Overall, this dataset appears to contain relevant information related to blood donation behavior, such as frequency and recency of donations, total volume donated, and whether or not the donor made a donation in a specific month. By analyzing this data and developing a predictive model, it may be possible to identify donors who are more likely to donate again and encourage them to make repeat donations, ultimately helping to maintain a stable supply of blood for transfusions.\n"
   ]
  },
  {
   "cell_type": "markdown",
   "metadata": {},
   "source": [
    "# Domain Analysis"
   ]
  },
  {
   "cell_type": "markdown",
   "metadata": {},
   "source": [
    "#### Blood Donation Industry:\n",
    "\n",
    "Blood transfusions are a crucial aspect of modern healthcare, and millions of units of blood transfused worldwide every year. However, the supply of blood is dependent on donors, and maintaining a stable supply of blood for transfusions is a challenging task. This challenge is due to various factors, including the lack of awareness about blood donation, cultural barriers, and a lack of regular and repeat donors. According to the World Health Organization, blood donation by 1% of the population is usually sufficient to meet a country's basic blood needs. In most countries, however, voluntary unpaid donors account for less than 50% of blood donations, resulting in an unsteady supply of blood for transfusions.\n",
    "\n",
    "#### Donor Behavior:\n",
    "\n",
    "Understanding donor behavior is crucial in identifying ways to maintain a stable blood supply. Various factors influence whether or not someone donates blood, including age, gender, socio-economic status, and personal motivations. A study conducted by Adereti et al. (2019) found that the most common reason for donating blood was to help others, followed by a personal experience with a friend or family member who required a transfusion. However, other factors such as inconvenience, fear of needles, and a lack of awareness about blood donation can discourage people from donating blood.\n",
    "\n",
    "#### Blood Donation Campaigns:\n",
    "\n",
    "Many organizations run blood donation campaigns to encourage people to donate blood. These campaigns often utilize a range of strategies, such as social media campaigns, posters, and incentives for donors. For example, a blood donation campaign run by the American Red Cross in 2020 provided donors with a $5 Amazon gift card as an incentive. Additionally, blood donation campaigns often target specific demographics or populations that are underrepresented in blood donation, such as young adults or ethnic minorities.\n",
    "\n",
    "#### Data Analytics in Healthcare:\n",
    "\n",
    "Data analytics is becoming an increasingly important tool in healthcare for improving patient outcomes and resource allocation. In the blood donation industry, data analytics can help to identify patterns in donor behavior, such as the factors that influence whether or not someone donates blood and the likelihood of a donor making a repeat donation. Furthermore, predictive modeling can help to identify donors who are more likely to donate again, allowing blood banks to focus their resources on encouraging repeat donations.\n",
    "\n",
    "#### Predictive Modeling:\n",
    "\n",
    "Predictive modeling is a technique used in data analytics to make predictions about future events based on historical data. In healthcare, predictive modeling has various applications, including predicting patient outcomes, identifying individuals at risk of disease, and forecasting healthcare demand. In the context of blood donation, predictive modeling can be used to identify donors who are more likely to donate again and create targeted campaigns to encourage repeat donations. Machine learning algorithms such as random forest, logistic regression, and decision trees are used to build predictive models from donor data.\n",
    "\n"
   ]
  },
  {
   "cell_type": "markdown",
   "metadata": {},
   "source": [
    "# Problem Type and Performance Matric"
   ]
  },
  {
   "cell_type": "markdown",
   "metadata": {},
   "source": [
    "Based on the given dataset, the blood donation project can be formulated as a binary classification problem. The goal is to predict whether a donor will donate blood in March 2007 (Made Donation in March 2007) based on their past donation behavior and demographic attributes. The target variable is binary, and the dataset contains both categorical and continuous features. Therefore, suitable machine learning algorithms for this problem include logistic regression, decision trees, random forest, support vector machines (SVMs), and neural networks.\n",
    "\n",
    "When evaluating the performance of a binary classification model, several performance metrics can be used, depending on the specific needs of the project. Some of the common performance metrics used for binary classification problems include:\n",
    "\n",
    "Accuracy: The proportion of correct predictions made by the model.\n",
    "\n",
    "Precision: The proportion of true positives (correctly predicted positive class) among all predicted positives.\n",
    "\n",
    "Recall: The proportion of true positives among all actual positive samples.\n",
    "\n",
    "F1-score: The harmonic mean of precision and recall, which combines both metrics.\n",
    "\n",
    "Area Under the ROC Curve (AUC-ROC): The area under the receiver operating characteristic (ROC) curve, which measures the trade-off between true positive rate and false positive rate.\n",
    "\n",
    "The selection of a suitable performance metric depends on the specific needs and objectives of the project. However, in the case of the blood donation project, where the goal is to predict whether a donor will donate blood in March 2007, the most appropriate performance metrics to use would be precision, recall, and the F1-score.\n",
    "\n",
    "Precision is important because it measures the proportion of correctly predicted positive class (i.e., donors who will donate in March 2007) among all predicted positives. In the context of the blood donation project, high precision indicates that the model is accurately identifying donors who are likely to donate, which is critical for effective donor targeting.\n",
    "\n",
    "Recall is also essential in this problem because it measures the proportion of actual positive samples (i.e., donors who donated in March 2007) that were correctly identified by the model. High recall indicates that the model can identify a high percentage of donors who will donate in March 2007, which is important for maintaining a stable blood supply.\n",
    "\n",
    "The F1-score is a harmonic mean of precision and recall, which combines both metrics. It provides a single measure of overall performance that is useful for comparing different models and selecting the best one.\n",
    "\n",
    "While accuracy and AUC-ROC are also important performance metrics, they may not be the most appropriate for this particular problem. Accuracy is not always the best measure of performance in imbalanced datasets, where the number of positive and negative samples is not equal. In the blood donation dataset, the positive class (donors who will donate in March 2007) is likely to be less frequent than the negative class, making accuracy less informative. Similarly, AUC-ROC measures the trade-off between true positive rate and false positive rate, which may not be the most relevant metric for this problem where the focus is on identifying donors who will donate. Therefore, precision, recall, and the F1-score are the most appropriate performance metrics to use in the blood donation project."
   ]
  },
  {
   "cell_type": "markdown",
   "metadata": {},
   "source": [
    "# Importing Libraries"
   ]
  },
  {
   "cell_type": "code",
   "execution_count": 21,
   "metadata": {},
   "outputs": [],
   "source": [
    "import pandas as pd\n",
    "import numpy as np"
   ]
  },
  {
   "cell_type": "code",
   "execution_count": 22,
   "metadata": {},
   "outputs": [
    {
     "data": {
      "text/html": [
       "<div>\n",
       "<style scoped>\n",
       "    .dataframe tbody tr th:only-of-type {\n",
       "        vertical-align: middle;\n",
       "    }\n",
       "\n",
       "    .dataframe tbody tr th {\n",
       "        vertical-align: top;\n",
       "    }\n",
       "\n",
       "    .dataframe thead th {\n",
       "        text-align: right;\n",
       "    }\n",
       "</style>\n",
       "<table border=\"1\" class=\"dataframe\">\n",
       "  <thead>\n",
       "    <tr style=\"text-align: right;\">\n",
       "      <th></th>\n",
       "      <th>Unnamed: 0</th>\n",
       "      <th>Months since Last Donation</th>\n",
       "      <th>Number of Donations</th>\n",
       "      <th>Total Volume Donated (c.c.)</th>\n",
       "      <th>Months since First Donation</th>\n",
       "      <th>Made Donation in March 2007</th>\n",
       "    </tr>\n",
       "  </thead>\n",
       "  <tbody>\n",
       "    <tr>\n",
       "      <th>0</th>\n",
       "      <td>619</td>\n",
       "      <td>2</td>\n",
       "      <td>50</td>\n",
       "      <td>12500</td>\n",
       "      <td>98</td>\n",
       "      <td>1</td>\n",
       "    </tr>\n",
       "    <tr>\n",
       "      <th>1</th>\n",
       "      <td>664</td>\n",
       "      <td>0</td>\n",
       "      <td>13</td>\n",
       "      <td>3250</td>\n",
       "      <td>28</td>\n",
       "      <td>1</td>\n",
       "    </tr>\n",
       "    <tr>\n",
       "      <th>2</th>\n",
       "      <td>441</td>\n",
       "      <td>1</td>\n",
       "      <td>16</td>\n",
       "      <td>4000</td>\n",
       "      <td>35</td>\n",
       "      <td>1</td>\n",
       "    </tr>\n",
       "    <tr>\n",
       "      <th>3</th>\n",
       "      <td>160</td>\n",
       "      <td>2</td>\n",
       "      <td>20</td>\n",
       "      <td>5000</td>\n",
       "      <td>45</td>\n",
       "      <td>1</td>\n",
       "    </tr>\n",
       "    <tr>\n",
       "      <th>4</th>\n",
       "      <td>358</td>\n",
       "      <td>1</td>\n",
       "      <td>24</td>\n",
       "      <td>6000</td>\n",
       "      <td>77</td>\n",
       "      <td>0</td>\n",
       "    </tr>\n",
       "  </tbody>\n",
       "</table>\n",
       "</div>"
      ],
      "text/plain": [
       "   Unnamed: 0  Months since Last Donation  Number of Donations  \\\n",
       "0         619                           2                   50   \n",
       "1         664                           0                   13   \n",
       "2         441                           1                   16   \n",
       "3         160                           2                   20   \n",
       "4         358                           1                   24   \n",
       "\n",
       "   Total Volume Donated (c.c.)  Months since First Donation  \\\n",
       "0                        12500                           98   \n",
       "1                         3250                           28   \n",
       "2                         4000                           35   \n",
       "3                         5000                           45   \n",
       "4                         6000                           77   \n",
       "\n",
       "   Made Donation in March 2007  \n",
       "0                            1  \n",
       "1                            1  \n",
       "2                            1  \n",
       "3                            1  \n",
       "4                            0  "
      ]
     },
     "execution_count": 22,
     "metadata": {},
     "output_type": "execute_result"
    }
   ],
   "source": [
    "donation= pd.read_csv('blood_don.csv')\n",
    "donation.head()"
   ]
  },
  {
   "cell_type": "code",
   "execution_count": 23,
   "metadata": {},
   "outputs": [
    {
     "data": {
      "text/plain": [
       "(576, 6)"
      ]
     },
     "execution_count": 23,
     "metadata": {},
     "output_type": "execute_result"
    }
   ],
   "source": [
    "donation.shape"
   ]
  },
  {
   "cell_type": "markdown",
   "metadata": {},
   "source": [
    "There are 576 rows and 6 columns in the dataset"
   ]
  },
  {
   "cell_type": "code",
   "execution_count": 24,
   "metadata": {},
   "outputs": [
    {
     "name": "stdout",
     "output_type": "stream",
     "text": [
      "<class 'pandas.core.frame.DataFrame'>\n",
      "RangeIndex: 576 entries, 0 to 575\n",
      "Data columns (total 6 columns):\n",
      " #   Column                       Non-Null Count  Dtype\n",
      "---  ------                       --------------  -----\n",
      " 0   Unnamed: 0                   576 non-null    int64\n",
      " 1   Months since Last Donation   576 non-null    int64\n",
      " 2   Number of Donations          576 non-null    int64\n",
      " 3   Total Volume Donated (c.c.)  576 non-null    int64\n",
      " 4   Months since First Donation  576 non-null    int64\n",
      " 5   Made Donation in March 2007  576 non-null    int64\n",
      "dtypes: int64(6)\n",
      "memory usage: 27.1 KB\n"
     ]
    }
   ],
   "source": [
    "donation.info()"
   ]
  },
  {
   "cell_type": "markdown",
   "metadata": {},
   "source": [
    "- There are no missing values\n",
    "- All values are numeric and of int64 type"
   ]
  },
  {
   "cell_type": "code",
   "execution_count": 25,
   "metadata": {},
   "outputs": [
    {
     "data": {
      "text/plain": [
       "Index(['Unnamed: 0', 'Months since Last Donation', 'Number of Donations',\n",
       "       'Total Volume Donated (c.c.)', 'Months since First Donation',\n",
       "       'Made Donation in March 2007'],\n",
       "      dtype='object')"
      ]
     },
     "execution_count": 25,
     "metadata": {},
     "output_type": "execute_result"
    }
   ],
   "source": [
    "donation.columns"
   ]
  },
  {
   "cell_type": "code",
   "execution_count": null,
   "metadata": {},
   "outputs": [],
   "source": []
  }
 ],
 "metadata": {
  "kernelspec": {
   "display_name": "Python 3.9.7 ('base')",
   "language": "python",
   "name": "python3"
  },
  "language_info": {
   "codemirror_mode": {
    "name": "ipython",
    "version": 3
   },
   "file_extension": ".py",
   "mimetype": "text/x-python",
   "name": "python",
   "nbconvert_exporter": "python",
   "pygments_lexer": "ipython3",
   "version": "3.9.7"
  },
  "orig_nbformat": 4,
  "vscode": {
   "interpreter": {
    "hash": "a830059a9c722dc07a2d3b6438b71a1ebbefa5368f89a311b0b30f271271817c"
   }
  }
 },
 "nbformat": 4,
 "nbformat_minor": 2
}
