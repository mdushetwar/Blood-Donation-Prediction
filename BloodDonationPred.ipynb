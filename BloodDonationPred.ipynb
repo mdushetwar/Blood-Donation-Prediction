{
 "cells": [
  {
   "cell_type": "markdown",
   "metadata": {},
   "source": [
    "# Introduction"
   ]
  },
  {
   "cell_type": "markdown",
   "metadata": {},
   "source": [
    "Blood transfusion saves lives - from replacing lost blood during major surgery or a serious injury to treating various illnesses and blood disorders. Ensuring that there's enough blood in supply whenever needed is a serious challenge for the health professionals. According to WebMD,\"about 5 million Americans need a blood transfusion every year\". Blood transfusions are a crucial aspect of modern healthcare, with millions of units of blood transfused worldwide every year. However, the supply of blood is dependent on donors, and maintaining a stable supply of blood for transfusions is a challenging task. One of the significant challenges in blood donation is ensuring that donors come back to donate regularly, which helps to maintain a stable supply of blood.\n",
    "\n",
    "In this capstone project, we aim to develop a predictive model that can help blood banks to identify donors who are likely to come back to donate blood based on a limited number of attributes. The model will leverage machine learning algorithms to analyze the data from previous blood donations and predict the likelihood of donors to return for subsequent donations.\n",
    "\n",
    "The model will be developed using data obtained from a rom a mobile blood donation vehicle in Taiwan, including information on the time since last donation, number of donation, volume of donated blood, and total month past since first donation of donors. The Blood Transfusion Service Center drives to different universities and collects blood as part of a blood drive. The developed model will be evaluated using various metrics to determine its effectiveness in predicting future donor behavior.\n",
    "\n",
    "The proposed predictive model has the potential to assist blood banks in increasing the number of repeat donors and maintaining a stable supply of blood. Moreover, this model can provide valuable insights into the factors that influence donor behavior, which can help blood banks to create targeted campaigns to encourage more people to donate blood regularly.\n",
    "\n",
    "Overall, this capstone project aims to provide a data-driven approach to address the challenge of maintaining a stable supply of blood for transfusions by predicting donor behavior and helping blood banks to create targeted campaigns to increase repeat blood donations."
   ]
  },
  {
   "cell_type": "markdown",
   "metadata": {},
   "source": [
    "# Dataset"
   ]
  },
  {
   "cell_type": "markdown",
   "metadata": {},
   "source": [
    "'Months since Last Donation': Itrepresents the number of months that have passed since the donor's last blood donation. This information can be useful in identifying donors who have not donated blood in a long time and may need to be encouraged to donate again.\n",
    "\n",
    "'Number of Donations': This represents the total number of blood donations made by the donor. This information can be useful in identifying donors who have made multiple donations and may be more likely to donate again in the future.\n",
    "\n",
    "'Total Volume Donated (c.c.)': This column represents the total volume of blood donated by the donor, measured in cubic centimeters. This information can be useful in identifying donors who have made significant contributions to the blood bank and may be more committed to donating blood.\n",
    "\n",
    "'Months since First Donation': This feature represents the number of months that have passed since the donor's first blood donation. This information can be useful in identifying donors who have been donating blood for a long time and may be more likely to continue doing so.\n",
    "\n",
    "'Made Donation in March 2007': It represents whether or not the donor made a blood donation in March 2007. It is target column in the dataset. This information can be useful in identifying donors who have recently donated blood and may be more likely to donate again in the near future.\n",
    "\n",
    "Overall, this dataset appears to contain relevant information related to blood donation behavior, such as frequency and recency of donations, total volume donated, and whether or not the donor made a donation in a specific month. By analyzing this data and developing a predictive model, it may be possible to identify donors who are more likely to donate again and encourage them to make repeat donations, ultimately helping to maintain a stable supply of blood for transfusions.\n"
   ]
  },
  {
   "cell_type": "markdown",
   "metadata": {},
   "source": [
    "# Domain Analysis"
   ]
  },
  {
   "cell_type": "markdown",
   "metadata": {},
   "source": [
    "#### Blood Donation Industry:\n",
    "\n",
    "Blood transfusions are a crucial aspect of modern healthcare, and millions of units of blood transfused worldwide every year. However, the supply of blood is dependent on donors, and maintaining a stable supply of blood for transfusions is a challenging task. This challenge is due to various factors, including the lack of awareness about blood donation, cultural barriers, and a lack of regular and repeat donors. According to the World Health Organization, blood donation by 1% of the population is usually sufficient to meet a country's basic blood needs. In most countries, however, voluntary unpaid donors account for less than 50% of blood donations, resulting in an unsteady supply of blood for transfusions.\n",
    "\n",
    "#### Donor Behavior:\n",
    "\n",
    "Understanding donor behavior is crucial in identifying ways to maintain a stable blood supply. Various factors influence whether or not someone donates blood, including age, gender, socio-economic status, and personal motivations. A study conducted by Adereti et al. (2019) found that the most common reason for donating blood was to help others, followed by a personal experience with a friend or family member who required a transfusion. However, other factors such as inconvenience, fear of needles, and a lack of awareness about blood donation can discourage people from donating blood.\n",
    "\n",
    "#### Blood Donation Campaigns:\n",
    "\n",
    "Many organizations run blood donation campaigns to encourage people to donate blood. These campaigns often utilize a range of strategies, such as social media campaigns, posters, and incentives for donors. For example, a blood donation campaign run by the American Red Cross in 2020 provided donors with a $5 Amazon gift card as an incentive. Additionally, blood donation campaigns often target specific demographics or populations that are underrepresented in blood donation, such as young adults or ethnic minorities.\n",
    "\n",
    "#### Data Analytics in Healthcare:\n",
    "\n",
    "Data analytics is becoming an increasingly important tool in healthcare for improving patient outcomes and resource allocation. In the blood donation industry, data analytics can help to identify patterns in donor behavior, such as the factors that influence whether or not someone donates blood and the likelihood of a donor making a repeat donation. Furthermore, predictive modeling can help to identify donors who are more likely to donate again, allowing blood banks to focus their resources on encouraging repeat donations.\n",
    "\n",
    "#### Predictive Modeling:\n",
    "\n",
    "Predictive modeling is a technique used in data analytics to make predictions about future events based on historical data. In healthcare, predictive modeling has various applications, including predicting patient outcomes, identifying individuals at risk of disease, and forecasting healthcare demand. In the context of blood donation, predictive modeling can be used to identify donors who are more likely to donate again and create targeted campaigns to encourage repeat donations. Machine learning algorithms such as random forest, logistic regression, and decision trees are used to build predictive models from donor data.\n",
    "\n"
   ]
  },
  {
   "cell_type": "markdown",
   "metadata": {},
   "source": [
    "# Problem Type and Performance Matric"
   ]
  },
  {
   "cell_type": "markdown",
   "metadata": {},
   "source": [
    "Based on the given dataset, the blood donation project can be formulated as a binary classification problem. The goal is to predict whether a donor will donate blood in March 2007 (Made Donation in March 2007) based on their past donation behavior and demographic attributes. The target variable is binary, and the dataset contains both categorical and continuous features. Therefore, suitable machine learning algorithms for this problem include logistic regression, decision trees, random forest, support vector machines (SVMs), and neural networks.\n",
    "\n",
    "When evaluating the performance of a binary classification model, several performance metrics can be used, depending on the specific needs of the project. Some of the common performance metrics used for binary classification problems include:\n",
    "\n",
    "Accuracy: The proportion of correct predictions made by the model.\n",
    "\n",
    "Precision: The proportion of true positives (correctly predicted positive class) among all predicted positives.\n",
    "\n",
    "Recall: The proportion of true positives among all actual positive samples.\n",
    "\n",
    "F1-score: The harmonic mean of precision and recall, which combines both metrics.\n",
    "\n",
    "Area Under the ROC Curve (AUC-ROC): The area under the receiver operating characteristic (ROC) curve, which measures the trade-off between true positive rate and false positive rate.\n",
    "\n",
    "The selection of a suitable performance metric depends on the specific needs and objectives of the project. However, in the case of the blood donation project, where the goal is to predict whether a donor will donate blood in March 2007, the most appropriate performance metrics to use would be precision, recall, and the F1-score.\n",
    "\n",
    "Precision is important because it measures the proportion of correctly predicted positive class (i.e., donors who will donate in March 2007) among all predicted positives. In the context of the blood donation project, high precision indicates that the model is accurately identifying donors who are likely to donate, which is critical for effective donor targeting.\n",
    "\n",
    "Recall is also essential in this problem because it measures the proportion of actual positive samples (i.e., donors who donated in March 2007) that were correctly identified by the model. High recall indicates that the model can identify a high percentage of donors who will donate in March 2007, which is important for maintaining a stable blood supply.\n",
    "\n",
    "The F1-score is a harmonic mean of precision and recall, which combines both metrics. It provides a single measure of overall performance that is useful for comparing different models and selecting the best one.\n",
    "\n",
    "While accuracy and AUC-ROC are also important performance metrics, they may not be the most appropriate for this particular problem. Accuracy is not always the best measure of performance in imbalanced datasets, where the number of positive and negative samples is not equal. In the blood donation dataset, the positive class (donors who will donate in March 2007) is likely to be less frequent than the negative class, making accuracy less informative. Similarly, AUC-ROC measures the trade-off between true positive rate and false positive rate, which may not be the most relevant metric for this problem where the focus is on identifying donors who will donate. Therefore, precision, recall, and the F1-score are the most appropriate performance metrics to use in the blood donation project."
   ]
  },
  {
   "cell_type": "markdown",
   "metadata": {},
   "source": [
    "# Importing Libraries"
   ]
  },
  {
   "cell_type": "code",
   "execution_count": 28,
   "metadata": {},
   "outputs": [],
   "source": [
    "import pandas as pd\n",
    "import numpy as np"
   ]
  },
  {
   "cell_type": "code",
   "execution_count": 29,
   "metadata": {},
   "outputs": [
    {
     "data": {
      "text/html": [
       "<div>\n",
       "<style scoped>\n",
       "    .dataframe tbody tr th:only-of-type {\n",
       "        vertical-align: middle;\n",
       "    }\n",
       "\n",
       "    .dataframe tbody tr th {\n",
       "        vertical-align: top;\n",
       "    }\n",
       "\n",
       "    .dataframe thead th {\n",
       "        text-align: right;\n",
       "    }\n",
       "</style>\n",
       "<table border=\"1\" class=\"dataframe\">\n",
       "  <thead>\n",
       "    <tr style=\"text-align: right;\">\n",
       "      <th></th>\n",
       "      <th>Unnamed: 0</th>\n",
       "      <th>Months since Last Donation</th>\n",
       "      <th>Number of Donations</th>\n",
       "      <th>Total Volume Donated (c.c.)</th>\n",
       "      <th>Months since First Donation</th>\n",
       "      <th>Made Donation in March 2007</th>\n",
       "    </tr>\n",
       "  </thead>\n",
       "  <tbody>\n",
       "    <tr>\n",
       "      <th>0</th>\n",
       "      <td>619</td>\n",
       "      <td>2</td>\n",
       "      <td>50</td>\n",
       "      <td>12500</td>\n",
       "      <td>98</td>\n",
       "      <td>1</td>\n",
       "    </tr>\n",
       "    <tr>\n",
       "      <th>1</th>\n",
       "      <td>664</td>\n",
       "      <td>0</td>\n",
       "      <td>13</td>\n",
       "      <td>3250</td>\n",
       "      <td>28</td>\n",
       "      <td>1</td>\n",
       "    </tr>\n",
       "    <tr>\n",
       "      <th>2</th>\n",
       "      <td>441</td>\n",
       "      <td>1</td>\n",
       "      <td>16</td>\n",
       "      <td>4000</td>\n",
       "      <td>35</td>\n",
       "      <td>1</td>\n",
       "    </tr>\n",
       "    <tr>\n",
       "      <th>3</th>\n",
       "      <td>160</td>\n",
       "      <td>2</td>\n",
       "      <td>20</td>\n",
       "      <td>5000</td>\n",
       "      <td>45</td>\n",
       "      <td>1</td>\n",
       "    </tr>\n",
       "    <tr>\n",
       "      <th>4</th>\n",
       "      <td>358</td>\n",
       "      <td>1</td>\n",
       "      <td>24</td>\n",
       "      <td>6000</td>\n",
       "      <td>77</td>\n",
       "      <td>0</td>\n",
       "    </tr>\n",
       "  </tbody>\n",
       "</table>\n",
       "</div>"
      ],
      "text/plain": [
       "   Unnamed: 0  Months since Last Donation  Number of Donations  \\\n",
       "0         619                           2                   50   \n",
       "1         664                           0                   13   \n",
       "2         441                           1                   16   \n",
       "3         160                           2                   20   \n",
       "4         358                           1                   24   \n",
       "\n",
       "   Total Volume Donated (c.c.)  Months since First Donation  \\\n",
       "0                        12500                           98   \n",
       "1                         3250                           28   \n",
       "2                         4000                           35   \n",
       "3                         5000                           45   \n",
       "4                         6000                           77   \n",
       "\n",
       "   Made Donation in March 2007  \n",
       "0                            1  \n",
       "1                            1  \n",
       "2                            1  \n",
       "3                            1  \n",
       "4                            0  "
      ]
     },
     "execution_count": 29,
     "metadata": {},
     "output_type": "execute_result"
    }
   ],
   "source": [
    "donation= pd.read_csv('blood_don.csv')\n",
    "donation.head()"
   ]
  },
  {
   "cell_type": "code",
   "execution_count": 30,
   "metadata": {},
   "outputs": [
    {
     "data": {
      "text/plain": [
       "(576, 6)"
      ]
     },
     "execution_count": 30,
     "metadata": {},
     "output_type": "execute_result"
    }
   ],
   "source": [
    "donation.shape"
   ]
  },
  {
   "cell_type": "markdown",
   "metadata": {},
   "source": [
    "There are 576 rows and 6 columns in the dataset"
   ]
  },
  {
   "cell_type": "code",
   "execution_count": 31,
   "metadata": {},
   "outputs": [
    {
     "name": "stdout",
     "output_type": "stream",
     "text": [
      "<class 'pandas.core.frame.DataFrame'>\n",
      "RangeIndex: 576 entries, 0 to 575\n",
      "Data columns (total 6 columns):\n",
      " #   Column                       Non-Null Count  Dtype\n",
      "---  ------                       --------------  -----\n",
      " 0   Unnamed: 0                   576 non-null    int64\n",
      " 1   Months since Last Donation   576 non-null    int64\n",
      " 2   Number of Donations          576 non-null    int64\n",
      " 3   Total Volume Donated (c.c.)  576 non-null    int64\n",
      " 4   Months since First Donation  576 non-null    int64\n",
      " 5   Made Donation in March 2007  576 non-null    int64\n",
      "dtypes: int64(6)\n",
      "memory usage: 27.1 KB\n"
     ]
    }
   ],
   "source": [
    "donation.info()"
   ]
  },
  {
   "cell_type": "markdown",
   "metadata": {},
   "source": [
    "- There are no missing values\n",
    "- All values are numeric and of int64 type"
   ]
  },
  {
   "cell_type": "code",
   "execution_count": 32,
   "metadata": {},
   "outputs": [
    {
     "data": {
      "text/html": [
       "<div>\n",
       "<style scoped>\n",
       "    .dataframe tbody tr th:only-of-type {\n",
       "        vertical-align: middle;\n",
       "    }\n",
       "\n",
       "    .dataframe tbody tr th {\n",
       "        vertical-align: top;\n",
       "    }\n",
       "\n",
       "    .dataframe thead th {\n",
       "        text-align: right;\n",
       "    }\n",
       "</style>\n",
       "<table border=\"1\" class=\"dataframe\">\n",
       "  <thead>\n",
       "    <tr style=\"text-align: right;\">\n",
       "      <th></th>\n",
       "      <th>Unnamed: 0</th>\n",
       "      <th>Months since Last Donation</th>\n",
       "      <th>Number of Donations</th>\n",
       "      <th>Total Volume Donated (c.c.)</th>\n",
       "      <th>Months since First Donation</th>\n",
       "      <th>Made Donation in March 2007</th>\n",
       "    </tr>\n",
       "  </thead>\n",
       "  <tbody>\n",
       "    <tr>\n",
       "      <th>count</th>\n",
       "      <td>576.000000</td>\n",
       "      <td>576.000000</td>\n",
       "      <td>576.000000</td>\n",
       "      <td>576.000000</td>\n",
       "      <td>576.000000</td>\n",
       "      <td>576.000000</td>\n",
       "    </tr>\n",
       "    <tr>\n",
       "      <th>mean</th>\n",
       "      <td>374.034722</td>\n",
       "      <td>9.439236</td>\n",
       "      <td>5.427083</td>\n",
       "      <td>1356.770833</td>\n",
       "      <td>34.050347</td>\n",
       "      <td>0.239583</td>\n",
       "    </tr>\n",
       "    <tr>\n",
       "      <th>std</th>\n",
       "      <td>216.947773</td>\n",
       "      <td>8.175454</td>\n",
       "      <td>5.740010</td>\n",
       "      <td>1435.002556</td>\n",
       "      <td>24.227672</td>\n",
       "      <td>0.427200</td>\n",
       "    </tr>\n",
       "    <tr>\n",
       "      <th>min</th>\n",
       "      <td>0.000000</td>\n",
       "      <td>0.000000</td>\n",
       "      <td>1.000000</td>\n",
       "      <td>250.000000</td>\n",
       "      <td>2.000000</td>\n",
       "      <td>0.000000</td>\n",
       "    </tr>\n",
       "    <tr>\n",
       "      <th>25%</th>\n",
       "      <td>183.750000</td>\n",
       "      <td>2.000000</td>\n",
       "      <td>2.000000</td>\n",
       "      <td>500.000000</td>\n",
       "      <td>16.000000</td>\n",
       "      <td>0.000000</td>\n",
       "    </tr>\n",
       "    <tr>\n",
       "      <th>50%</th>\n",
       "      <td>375.500000</td>\n",
       "      <td>7.000000</td>\n",
       "      <td>4.000000</td>\n",
       "      <td>1000.000000</td>\n",
       "      <td>28.000000</td>\n",
       "      <td>0.000000</td>\n",
       "    </tr>\n",
       "    <tr>\n",
       "      <th>75%</th>\n",
       "      <td>562.500000</td>\n",
       "      <td>14.000000</td>\n",
       "      <td>7.000000</td>\n",
       "      <td>1750.000000</td>\n",
       "      <td>49.250000</td>\n",
       "      <td>0.000000</td>\n",
       "    </tr>\n",
       "    <tr>\n",
       "      <th>max</th>\n",
       "      <td>747.000000</td>\n",
       "      <td>74.000000</td>\n",
       "      <td>50.000000</td>\n",
       "      <td>12500.000000</td>\n",
       "      <td>98.000000</td>\n",
       "      <td>1.000000</td>\n",
       "    </tr>\n",
       "  </tbody>\n",
       "</table>\n",
       "</div>"
      ],
      "text/plain": [
       "       Unnamed: 0  Months since Last Donation  Number of Donations  \\\n",
       "count  576.000000                  576.000000           576.000000   \n",
       "mean   374.034722                    9.439236             5.427083   \n",
       "std    216.947773                    8.175454             5.740010   \n",
       "min      0.000000                    0.000000             1.000000   \n",
       "25%    183.750000                    2.000000             2.000000   \n",
       "50%    375.500000                    7.000000             4.000000   \n",
       "75%    562.500000                   14.000000             7.000000   \n",
       "max    747.000000                   74.000000            50.000000   \n",
       "\n",
       "       Total Volume Donated (c.c.)  Months since First Donation  \\\n",
       "count                   576.000000                   576.000000   \n",
       "mean                   1356.770833                    34.050347   \n",
       "std                    1435.002556                    24.227672   \n",
       "min                     250.000000                     2.000000   \n",
       "25%                     500.000000                    16.000000   \n",
       "50%                    1000.000000                    28.000000   \n",
       "75%                    1750.000000                    49.250000   \n",
       "max                   12500.000000                    98.000000   \n",
       "\n",
       "       Made Donation in March 2007  \n",
       "count                   576.000000  \n",
       "mean                      0.239583  \n",
       "std                       0.427200  \n",
       "min                       0.000000  \n",
       "25%                       0.000000  \n",
       "50%                       0.000000  \n",
       "75%                       0.000000  \n",
       "max                       1.000000  "
      ]
     },
     "execution_count": 32,
     "metadata": {},
     "output_type": "execute_result"
    }
   ],
   "source": [
    "donation.describe()"
   ]
  },
  {
   "cell_type": "markdown",
   "metadata": {},
   "source": [
    "\n",
    "- The mean number of months since the last donation is 9.44, with a standard deviation of 8.18 months, which indicates that there is some variability in the frequency of donations among donors. The minimum time since the last donation is 0 months, and the maximum is 74 months.\n",
    "\n",
    "- On average, each donor made 5.43 donations, with a standard deviation of 5.74 donations. The minimum number of donations is 1, and the maximum is 50. The median number of donations is 4, which suggests that most donors made a relatively small number of donations.\n",
    "\n",
    "- The mean total volume donated is 1356.77 cubic centimeters (c.c.), with a standard deviation of 1435.00 c.c. This variable also exhibits a wide range, with the minimum being 250 c.c. and the maximum being 12500 c.c. The median total volume donated is 1000 c.c.\n",
    "\n",
    "- The mean number of months since the first donation is 34.05, with a standard deviation of 24.23 months. This variable also shows a wide range, with the minimum being 2 months and the maximum being 98 months.\n",
    "\n",
    "- Finally, the data shows that 24% of the donors made a donation in March 2007 (the month for which the data was collected).\n",
    "\n",
    "\n",
    "Overall, the data suggests that blood donation is a relatively infrequent activity for most donors, with a large variability in the frequency and volume of donations. However, the fact that almost a quarter of the donors made a donation in March 2007 suggests that there may be opportunities to increase donation rates by engaging with donors and encouraging them to make more frequent donations"
   ]
  },
  {
   "cell_type": "code",
   "execution_count": 33,
   "metadata": {},
   "outputs": [
    {
     "data": {
      "text/plain": [
       "Index(['Unnamed: 0', 'Months since Last Donation', 'Number of Donations',\n",
       "       'Total Volume Donated (c.c.)', 'Months since First Donation',\n",
       "       'Made Donation in March 2007'],\n",
       "      dtype='object')"
      ]
     },
     "execution_count": 33,
     "metadata": {},
     "output_type": "execute_result"
    }
   ],
   "source": [
    "donation.columns"
   ]
  },
  {
   "cell_type": "code",
   "execution_count": 34,
   "metadata": {},
   "outputs": [],
   "source": [
    "donation.drop('Unnamed: 0', axis=1, inplace=True)"
   ]
  },
  {
   "cell_type": "code",
   "execution_count": 35,
   "metadata": {},
   "outputs": [],
   "source": [
    "def transform_name(x):\n",
    "    x= x.lower()\n",
    "    x=x.replace(' ', '_')\n",
    "    return x\n",
    "\n",
    "column_names= list(donation.columns)\n",
    "\n",
    "column_names= map(lambda x: transform_name(x), column_names)\n",
    "donation.columns=column_names"
   ]
  },
  {
   "cell_type": "code",
   "execution_count": 37,
   "metadata": {},
   "outputs": [
    {
     "data": {
      "text/html": [
       "<div>\n",
       "<style scoped>\n",
       "    .dataframe tbody tr th:only-of-type {\n",
       "        vertical-align: middle;\n",
       "    }\n",
       "\n",
       "    .dataframe tbody tr th {\n",
       "        vertical-align: top;\n",
       "    }\n",
       "\n",
       "    .dataframe thead th {\n",
       "        text-align: right;\n",
       "    }\n",
       "</style>\n",
       "<table border=\"1\" class=\"dataframe\">\n",
       "  <thead>\n",
       "    <tr style=\"text-align: right;\">\n",
       "      <th></th>\n",
       "      <th>months_since_last_donation</th>\n",
       "      <th>number_of_donations</th>\n",
       "      <th>total_volume_donated_(c.c.)</th>\n",
       "      <th>months_since_first_donation</th>\n",
       "      <th>made_donation_in_march_2007</th>\n",
       "    </tr>\n",
       "  </thead>\n",
       "  <tbody>\n",
       "    <tr>\n",
       "      <th>0</th>\n",
       "      <td>2</td>\n",
       "      <td>50</td>\n",
       "      <td>12500</td>\n",
       "      <td>98</td>\n",
       "      <td>1</td>\n",
       "    </tr>\n",
       "    <tr>\n",
       "      <th>1</th>\n",
       "      <td>0</td>\n",
       "      <td>13</td>\n",
       "      <td>3250</td>\n",
       "      <td>28</td>\n",
       "      <td>1</td>\n",
       "    </tr>\n",
       "    <tr>\n",
       "      <th>2</th>\n",
       "      <td>1</td>\n",
       "      <td>16</td>\n",
       "      <td>4000</td>\n",
       "      <td>35</td>\n",
       "      <td>1</td>\n",
       "    </tr>\n",
       "  </tbody>\n",
       "</table>\n",
       "</div>"
      ],
      "text/plain": [
       "   months_since_last_donation  number_of_donations  \\\n",
       "0                           2                   50   \n",
       "1                           0                   13   \n",
       "2                           1                   16   \n",
       "\n",
       "   total_volume_donated_(c.c.)  months_since_first_donation  \\\n",
       "0                        12500                           98   \n",
       "1                         3250                           28   \n",
       "2                         4000                           35   \n",
       "\n",
       "   made_donation_in_march_2007  \n",
       "0                            1  \n",
       "1                            1  \n",
       "2                            1  "
      ]
     },
     "execution_count": 37,
     "metadata": {},
     "output_type": "execute_result"
    }
   ],
   "source": [
    "donation.head(3)"
   ]
  },
  {
   "cell_type": "code",
   "execution_count": 38,
   "metadata": {},
   "outputs": [
    {
     "data": {
      "text/plain": [
       "0    438\n",
       "1    138\n",
       "Name: made_donation_in_march_2007, dtype: int64"
      ]
     },
     "execution_count": 38,
     "metadata": {},
     "output_type": "execute_result"
    }
   ],
   "source": [
    "donation.made_donation_in_march_2007.value_counts()"
   ]
  },
  {
   "cell_type": "markdown",
   "metadata": {},
   "source": [
    "The value counts of the target variable show that the dataset is imbalanced, with 438 donors (about 76% of the dataset) having a target value of 0, indicating that they did not make a donation in March 2007, and only 138 donors (about 24% of the dataset) having a target value of 1, indicating that they did make a donation in March 2007. This imbalance is significant and could cause issues when building a predictive model, as the model may be biased towards the majority class and perform poorly on the minority class.\n",
    "\n",
    "To address this imbalance, various techniques can be employed, such as resampling methods or using cost-sensitive learning. Resampling techniques include oversampling the minority class, undersampling the majority class, or a combination of both. Cost-sensitive learning involves assigning different misclassification costs to the two classes, giving more weight to the minority class. By using these techniques, we can balance the dataset and improve the performance of the predictive model on both classes."
   ]
  },
  {
   "cell_type": "code",
   "execution_count": 41,
   "metadata": {},
   "outputs": [
    {
     "data": {
      "image/png": "[encoded data removed]",
      "text/plain": [
       "<Figure size 1080x720 with 6 Axes>"
      ]
     },
     "metadata": {
      "needs_background": "light"
     },
     "output_type": "display_data"
    }
   ],
   "source": [
    "donation.hist(figsize=(15,10));"
   ]
  },
  {
   "cell_type": "code",
   "execution_count": null,
   "metadata": {},
   "outputs": [],
   "source": []
  }
 ],
 "metadata": {
  "kernelspec": {
   "display_name": "Python 3.9.7 ('base')",
   "language": "python",
   "name": "python3"
  },
  "language_info": {
   "codemirror_mode": {
    "name": "ipython",
    "version": 3
   },
   "file_extension": ".py",
   "mimetype": "text/x-python",
   "name": "python",
   "nbconvert_exporter": "python",
   "pygments_lexer": "ipython3",
   "version": "3.9.7"
  },
  "orig_nbformat": 4,
  "vscode": {
   "interpreter": {
    "hash": "a830059a9c722dc07a2d3b6438b71a1ebbefa5368f89a311b0b30f271271817c"
   }
  }
 },
 "nbformat": 4,
 "nbformat_minor": 2
}
